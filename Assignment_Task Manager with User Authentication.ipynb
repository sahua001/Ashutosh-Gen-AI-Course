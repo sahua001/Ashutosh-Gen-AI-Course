{
 "cells": [
  {
   "cell_type": "code",
   "execution_count": 6,
   "id": "f378a1e8",
   "metadata": {},
   "outputs": [
    {
     "ename": "IndentationError",
     "evalue": "unexpected indent (<ipython-input-6-9f6c7118cff7>, line 16)",
     "output_type": "error",
     "traceback": [
      "\u001b[1;36m  File \u001b[1;32m\"<ipython-input-6-9f6c7118cff7>\"\u001b[1;36m, line \u001b[1;32m16\u001b[0m\n\u001b[1;33m    if os.path.exists(USERS_FILE):\u001b[0m\n\u001b[1;37m    ^\u001b[0m\n\u001b[1;31mIndentationError\u001b[0m\u001b[1;31m:\u001b[0m unexpected indent\n"
     ]
    }
   ],
   "source": [
    "if username in users:\n",
    "      print(\"Username already exists. Please choose a different one.\")\n",
    "    else:\n",
    "      break  # Valid username, exit the loop\n",
    "  password = input(\"Enter new password: \")\n",
    "  users[username] = password\n",
    "  save_users(users)\n",
    "  print(\"Registration successful!\")\n",
    "\n",
    "def login(users):\n",
    "  \"\"\"Logs in an existing user.\"\"\"\n",
    "  while True:\n",
    "    username = input(\"Enter username: \")\n",
    "    password = input(\"Enter password: \")\n",
    "    if username in users and users[username] == password:\n",
    "      print(\"Login successful!\")\n",
    "      return username\n",
    "    else:\n",
    "      print(\"Invalid username or password.\")\n",
    "\n",
    "def show_tasks(username):\n",
    "  \"\"\"Displays tasks for the logged-in user.\"\"\"\n",
    "  tasks = load_tasks(username)\n",
    "  if not tasks:\n",
    "    print(\"No tasks found.\")\n",
    "    return\n",
    "  print(\"Your tasks:\")\n",
    "  for i, task in enumerate(tasks):\n",
    "    status = \"Completed\" if task['completed'] else \"Pending\"\n",
    "    print(f\"{i + 1}. {task['task']} ({status})\")\n",
    "\n",
    "def add_task(username):\n",
    "  \"\"\"Adds a new task for the logged-in user.\"\"\"\n",
    "  task_description = input(\"Enter the task description: \")\n",
    "  tasks = load_tasks(username)\n",
    "  tasks.append({'task': task_description, 'completed': False})\n",
    "  save_tasks(username, tasks)\n",
    "  print(\"Task added successfully.\")\n",
    "\n",
    "def mark_task_complete(username):\n",
    "  \"\"\"Marks a task as complete for the logged-in user.\"\"\"\n",
    "  tasks = load_tasks(username)\n",
    "  if not tasks:\n",
    "    print(\"No tasks to mark as complete.\")\n",
    "    return\n",
    "  show_tasks(username)\n",
    "  while True:\n",
    "    try:\n",
    "      task_index = int(input(\"Enter the number of the task to mark as complete: \")) - 1\n",
    "      if 0 <= task_index < len(tasks):\n",
    "        tasks[task_index]['completed'] = True\n",
    "        save_tasks(username, tasks)\n",
    "        print(\"Task marked as complete.\")\n",
    "        break\n",
    "      else:\n",
    "        print(\"Invalid task number.\")\n",
    "    except ValueError:\n",
    "      print(\"Invalid input. Please enter a number.\")\n",
    "\n",
    "def delete_task(username):\n",
    "  \"\"\"Deletes a task for the logged-in user.\"\"\"\n",
    "  tasks = load_tasks(username)\n",
    "  if not tasks:\n",
    "    print(\"No tasks to delete.\")\n",
    "    return\n",
    "  show_tasks(username)\n",
    "  while True:\n",
    "    try:\n",
    "      task_index = int(input(\"Enter the number of the task to delete: \")) - 1\n",
    "      if 0 <= task_index < len(tasks):\n",
    "        deleted_task = tasks.pop(task_index)\n",
    "        save_tasks(username, tasks)\n",
    "        print(f\"Task '{deleted_task['task']}' deleted.\")\n",
    "        break\n",
    "      else:\n",
    "        print(\"Invalid task number.\")\n",
    "    except ValueError:\n",
    "      print(\"Invalid input. Please enter a number.\")\n",
    "\n",
    "def main():\n",
    "  \"\"\"Main function to run the task management application.\"\"\"\n",
    "  users = load_users()\n",
    "  logged_in_user = None\n",
    "\n",
    "  while logged_in_user is None:\n",
    "    print(\"\\nWelcome to the Task Management System!\")\n",
    "    print(\"1. Register\")\n",
    "    print(\"2. Login\")\n",
    "    print(\"3. Exit\")\n",
    "    choice = input(\"Enter your choice: \")\n",
    "\n",
    "    if choice == '1':\n",
    "      register(users)\n",
    "      users = load_users() # Reload users after registration\n",
    "    elif choice == '2':\n",
    "      logged_in_user = login(users)\n",
    "    elif choice == '3':\n",
    "      print(\"Exiting.\")\n",
    "      return\n",
    "    else:\n",
    "      print(\"Invalid choice.\")\n",
    "\n",
    "  # Main application loop after successful login\n",
    "  while True:\n",
    "    print(f\"\\nLogged in as: {logged_in_user}\")\n",
    "    print(\"1. Show Tasks\")\n",
    "    print(\"2. Add Task\")\n",
    "    print(\"3. Mark Task Complete\")\n",
    "    print(\"4. Delete Task\")\n",
    "    print(\"5. Logout\")\n",
    "    choice = input(\"Enter your choice: \")\n",
    "\n",
    "    if choice == '1':\n",
    "      show_tasks(logged_in_user)\n",
    "    elif choice == '2':\n",
    "      add_task(logged_in_user)\n",
    "    elif choice == '3':\n",
    "      mark_task_complete(logged_in_user)\n",
    "    elif choice == '4':\n",
    "      delete_task(logged_in_user)\n",
    "    elif choice == '5':\n",
    "      print(f\"Logging out {logged_in_user}.\")\n",
    "      logged_in_user = None\n",
    "      break # Exit the inner loop to go back to the login/register menu\n",
    "    else:\n",
    "      print(\"Invalid choice.\")\n",
    "\n",
    "if __name__ == \"__main__\":\n",
    "  main()\n",
    "```"
   ]
  },
  {
   "cell_type": "code",
   "execution_count": 7,
   "id": "54d17a31",
   "metadata": {},
   "outputs": [
    {
     "ename": "SyntaxError",
     "evalue": "invalid syntax (<ipython-input-7-a9ec34057466>, line 1)",
     "output_type": "error",
     "traceback": [
      "\u001b[1;36m  File \u001b[1;32m\"<ipython-input-7-a9ec34057466>\"\u001b[1;36m, line \u001b[1;32m1\u001b[0m\n\u001b[1;33m    for x in [0, 1, 2]: for y in [0, 1, 2, 3, 4, 5]: print('yes')\u001b[0m\n\u001b[1;37m                        ^\u001b[0m\n\u001b[1;31mSyntaxError\u001b[0m\u001b[1;31m:\u001b[0m invalid syntax\n"
     ]
    }
   ],
   "source": [
    "for x in [0, 1, 2]: for y in [0, 1, 2, 3, 4, 5]: print('yes')"
   ]
  },
  {
   "cell_type": "code",
   "execution_count": 8,
   "id": "c261c23c",
   "metadata": {},
   "outputs": [
    {
     "name": "stdout",
     "output_type": "stream",
     "text": [
      "yes\n",
      "yes\n",
      "yes\n",
      "yes\n",
      "yes\n",
      "yes\n",
      "yes\n",
      "yes\n",
      "yes\n",
      "yes\n",
      "yes\n",
      "yes\n",
      "yes\n",
      "yes\n",
      "yes\n",
      "yes\n",
      "yes\n",
      "yes\n"
     ]
    }
   ],
   "source": [
    "for x in [0,1,2]:\n",
    "    for y in [0,1,2,3,4,5]:\n",
    "        print('yes')"
   ]
  },
  {
   "cell_type": "code",
   "execution_count": 9,
   "id": "2eb80ac3",
   "metadata": {},
   "outputs": [
    {
     "ename": "SyntaxError",
     "evalue": "invalid syntax (<ipython-input-9-88d7a815ce7c>, line 1)",
     "output_type": "error",
     "traceback": [
      "\u001b[1;36m  File \u001b[1;32m\"<ipython-input-9-88d7a815ce7c>\"\u001b[1;36m, line \u001b[1;32m1\u001b[0m\n\u001b[1;33m    x = 10 y = 5 result = x // y + x % y print(result)\u001b[0m\n\u001b[1;37m           ^\u001b[0m\n\u001b[1;31mSyntaxError\u001b[0m\u001b[1;31m:\u001b[0m invalid syntax\n"
     ]
    }
   ],
   "source": [
    "x = 10 y = 5 result = x // y + x % y print(result)"
   ]
  },
  {
   "cell_type": "code",
   "execution_count": 11,
   "id": "df59a85c",
   "metadata": {},
   "outputs": [
    {
     "name": "stdout",
     "output_type": "stream",
     "text": [
      "2\n"
     ]
    }
   ],
   "source": [
    "x=10 \n",
    "y=5\n",
    "result= x//y+ x % y\n",
    "print(result)"
   ]
  },
  {
   "cell_type": "code",
   "execution_count": null,
   "id": "10449651",
   "metadata": {},
   "outputs": [],
   "source": []
  }
 ],
 "metadata": {
  "kernelspec": {
   "display_name": "Python 3",
   "language": "python",
   "name": "python3"
  },
  "language_info": {
   "codemirror_mode": {
    "name": "ipython",
    "version": 3
   },
   "file_extension": ".py",
   "mimetype": "text/x-python",
   "name": "python",
   "nbconvert_exporter": "python",
   "pygments_lexer": "ipython3",
   "version": "3.8.8"
  }
 },
 "nbformat": 4,
 "nbformat_minor": 5
}
