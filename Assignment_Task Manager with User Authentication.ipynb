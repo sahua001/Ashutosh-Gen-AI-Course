import os

# --- Configuration ---
USERS_FILE = "users.txt"
TASKS_DIR = "tasks"
ALL_TASKS_FILE = "tasks.txt"

# --- Global Application State ---
users = {}
current_user = None
current_tasks = []

# --- User Data Management ---

def _load_users():
    global users
    users = {}
    if not os.path.exists(USERS_FILE):
        return

    try:
        with open(USERS_FILE, 'r', encoding='utf-8') as f:
            for line in f:
                line = line.strip()
                if line:
                    username, password = line.split(':', 1)
                    users[username] = password
    except Exception as e:
        print(f"Error loading users: {e}")

def _save_users():
    try:
        with open(USERS_FILE, 'w', encoding='utf-8') as f:
            for username, password in users.items():
                f.write(f"{username}:{password}\n")
    except Exception as e:
        print(f"Error saving users: {e}")

def register():
    global users
    while True:
        username = input("Enter new username: ")
        if username in users:
            print("Username already exists. Please choose a different one.")
        else:
            break
    password = input("Enter new password: ")
    users[username] = password
    _save_users()
    user_tasks_path = os.path.join(TASKS_DIR, username)
    os.makedirs(user_tasks_path, exist_ok=True)
    print("Registration successful!")

def login():
    global current_user
    while True:
        username = input("Enter username: ")
        password = input("Enter password: ")
        if username in users and users[username] == password:
            current_user = username
            _load_tasks()
            print(f"Welcome, {username}!")
            return True
        else:
            print("Invalid username or password.")
            return False # Changed to return False to allow retry in main loop

# --- Task Data Management ---

def _get_user_tasks_file(username):
    return os.path.join(TASKS_DIR, username, ALL_TASKS_FILE)

def _load_tasks():
    global current_tasks
    global current_user
    current_tasks = []
    if not current_user:
        return

    tasks_file = _get_user_tasks_file(current_user)
    if not os.path.exists(tasks_file):
        return

    try:
        with open(tasks_file, 'r', encoding='utf-8') as f:
            for line in f:
                line = line.strip()
                if line:
                    description, completed_str = line.split(';;;', 1)
                    current_tasks.append({'description': description, 'completed': completed_str.lower() == 'true'})
    except Exception as e:
        print(f"Error loading tasks: {e}")

def _save_tasks():
    global current_tasks
    global current_user
    if not current_user:
        print("Cannot save tasks: No user logged in.")
        return
    
    tasks_file = _get_user_tasks_file(current_user)
    try:
        with open(tasks_file, 'w', encoding='utf-8') as f:
            for task in current_tasks:
                f.write(f"{task['description']};;;{task['completed']}\n")
    except Exception as e:
        print(f"Error saving tasks: {e}")

# --- Task Operations ---

def add_task():
    if not current_user:
        print("Please login to add tasks.")
        return
    task_description = input("Enter the task description: ")
    current_tasks.append({'description': task_description, 'completed': False})
    _save_tasks()
    print("Task added successfully.")

def view_tasks():
    if not current_user:
        print("Please login to view tasks.")
        return
    if not current_tasks:
        print("No tasks yet.")
        return
    print(f"\n--- {current_user}'s Tasks ---")
    for i, task in enumerate(current_tasks):
        status = "[x]" if task['completed'] else "[ ]"
        print(f"{i + 1}. {status} {task['description']}")
    print("--------------------------")

def mark_task_completed():
    if not current_user:
        print("Please login to manage tasks.")
        return
    view_tasks()
    if not current_tasks: # Check if there are tasks after view_tasks
        return

    while True:
        try:
            task_index = int(input("Enter task number to mark as completed: ")) - 1
            if 0 <= task_index < len(current_tasks):
                current_tasks[task_index]['completed'] = True
                _save_tasks()
                print("Task marked as completed.")
                break
            else:
                print("Invalid task number.")
        except ValueError:
            print("Invalid input. Please enter a number.")

def delete_task():
    if not current_user:
        print("Please login to manage tasks.")
        return
    view_tasks()
    if not current_tasks: # Check if there are tasks after view_tasks
        return

    while True:
        try:
            task_index = int(input("Enter task number to delete: ")) - 1
            if 0 <= task_index < len(current_tasks):
                deleted_task = current_tasks.pop(task_index)
                _save_tasks()
                print(f"Task '{deleted_task['description']}' deleted.")
                break
            else:
                print("Invalid task number.")
        except ValueError:
            print("Invalid input. Please enter a number.")

# --- Main Application Loop ---

def run_task_manager():
    global current_user
    os.makedirs(TASKS_DIR, exist_ok=True)
    _load_users()

    while True:
        if current_user:
            print(f"\n--- Logged in as: {current_user} ---")
            print("Task Manager Menu:")
            print("1. Add Task")
            print("2. View Tasks")
            print("3. Mark Task Completed")
            print("4. Delete Task")
            print("5. Logout")
            print("6. Exit")

            choice = input("Enter your choice: ")

            if choice == '1':
                add_task()
            elif choice == '2':
                view_tasks()
            elif choice == '3':
                mark_task_completed()
            elif choice == '4':
                delete_task()
            elif choice == '5':
                current_user = None
                current_tasks.clear()
                print("Logged out successfully.")
            elif choice == '6':
                print("Exiting Task Manager. Goodbye!")
                break
            else:
                print("Invalid choice. Please try again.")
        else:
            print("\n--- Welcome to the Task Manager! ---")
            print("1. Register")
            print("2. Login")
            print("3. Exit")

            choice = input("Enter your choice: ")

            if choice == '1':
                register()
            elif choice == '2':
                # Login function now returns True on success, False on failure
                if login():
                    pass # Successfully logged in, loop continues to logged-in menu
            elif choice == '3':
                print("Exiting Task Manager. Goodbye!")
                break
            else:
                print("Invalid choice. Please try again.")

if __name__ == "__main__":
    run_task_manager()
